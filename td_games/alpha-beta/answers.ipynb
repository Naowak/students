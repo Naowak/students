{
 "cells": [
  {
   "cell_type": "markdown",
   "metadata": {},
   "source": [
    "# Feuille 2"
   ]
  },
  {
   "cell_type": "markdown",
   "metadata": {},
   "source": [
    "## Partie 1"
   ]
  },
  {
   "cell_type": "markdown",
   "metadata": {},
   "source": [
    "### Question 1\n",
    "**Quel est le facteur de branchement du jeu représenté sur l’arbre ci-dessus ? Toutes les branches d’un arbre de jeu doivent-elles être de la même hauteur ?**\n",
    "\n",
    "- **Facteur de branchement** : 2.\n",
    "- **Hauteur des branches** : Non, toutes les branches d'un arbre de jeu ne doivent pas nécessairement être de la même hauteur. Cela dépend de la structure du jeu et des règles qui déterminent les mouvements possibles à chaque étape.\n",
    "\n",
    "### Question 2\n",
    "**Sans tenir compte de la feuille ayant une valeur de “ ? ?”, quelle est le meilleur plateau pour Ami ? Quel est le meilleur plateau pour Ennemi ? Expliquez le fait que deux nœuds de l’arbre aient un seul fils. Est-ce plutôt une bonne chose ou une mauvaise chose pour ami ?**\n",
    "\n",
    "- **Meilleur plateau pour Ami** :  8\n",
    "- **Meilleur plateau pour Ennemi** : -4, mais y'en a deux.\n",
    "- **Nœuds avec un seul fils** : Si un nœud a un seul fils, cela signifie qu'il n'y a qu'un seul mouvement possible à partir de ce nœud. Cela peut être une bonne chose si ce mouvement est avantageux pour Ami, mais cela peut aussi être une mauvaise chose si ce mouvement est défavorable.\n",
    "- **Impact pour Ami** : Cela dépend des valeurs des feuilles. Si le seul fils conduit à une feuille avec une valeur élevée, c'est bon pour Ami. Sinon, c'est mauvais.\n",
    "\n",
    "### Question 3\n",
    "**Donnez la plus grande valeur possible pour la feuille ayant la valeur heuristique notée “ ?” et permettant à α-β d’élaguer la feuille 8. Vous utiliserez cette valeur pour la suite du sujet ;**\n",
    "\n",
    "- **Valeur heuristique “ ?”** : 3 (ou 2 si on élague ou non les égalités de score).\n",
    "\n",
    "### Question 4\n",
    "**Déroulez alpha-béta classique sur ce même arbre de jeu : Attention, vous ferez bien figurer sur votre solution les coupes effectuées et l’évolution éventuelle des valeurs α et β au cours de la recherche ;**\n",
    "\n",
    "- **Score final avec alpha beta** : 1."
   ]
  },
  {
   "cell_type": "markdown",
   "metadata": {},
   "source": [
    "## Partie 2"
   ]
  },
  {
   "cell_type": "code",
   "execution_count": null,
   "metadata": {
    "vscode": {
     "languageId": "plaintext"
    }
   },
   "outputs": [],
   "source": []
  },
  {
   "cell_type": "code",
   "execution_count": null,
   "metadata": {
    "vscode": {
     "languageId": "plaintext"
    }
   },
   "outputs": [],
   "source": []
  },
  {
   "cell_type": "code",
   "execution_count": null,
   "metadata": {
    "vscode": {
     "languageId": "plaintext"
    }
   },
   "outputs": [],
   "source": []
  },
  {
   "cell_type": "code",
   "execution_count": null,
   "metadata": {
    "vscode": {
     "languageId": "plaintext"
    }
   },
   "outputs": [],
   "source": []
  },
  {
   "cell_type": "code",
   "execution_count": null,
   "metadata": {
    "vscode": {
     "languageId": "plaintext"
    }
   },
   "outputs": [],
   "source": []
  },
  {
   "cell_type": "code",
   "execution_count": null,
   "metadata": {
    "vscode": {
     "languageId": "plaintext"
    }
   },
   "outputs": [],
   "source": []
  },
  {
   "cell_type": "code",
   "execution_count": null,
   "metadata": {
    "vscode": {
     "languageId": "plaintext"
    }
   },
   "outputs": [],
   "source": []
  },
  {
   "cell_type": "code",
   "execution_count": null,
   "metadata": {
    "vscode": {
     "languageId": "plaintext"
    }
   },
   "outputs": [],
   "source": []
  },
  {
   "cell_type": "code",
   "execution_count": null,
   "metadata": {
    "vscode": {
     "languageId": "plaintext"
    }
   },
   "outputs": [],
   "source": []
  }
 ],
 "metadata": {
  "language_info": {
   "name": "python"
  }
 },
 "nbformat": 4,
 "nbformat_minor": 2
}
