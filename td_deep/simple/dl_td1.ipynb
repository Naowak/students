{
 "cells": [
  {
   "cell_type": "markdown",
   "metadata": {},
   "source": [
    "## Université de Bordeaux,  Master Mention Informatique\n",
    "\n",
    "## Intelligence Artificielle\n",
    "\n",
    "### Deep Learning, feuille 1"
   ]
  },
  {
   "cell_type": "markdown",
   "metadata": {},
   "source": [
    "### Présentation\n",
    "\n",
    "Le but de ce premier TD est de vous familiariser avec les réseaux de neurones et leur entraînement. Nous allons passer en revue les éléments de base suivant :\n",
    "\n",
    " - données d'apprentissage, \n",
    " \n",
    " - fonction de perte (loss function)\n",
    " \n",
    " - descente de gradient\n",
    " \n",
    " Pour cela, nous allons utiliser un réseau de neurone (composé d'un seul neurone en fait) pour deux tâches : \n",
    " \n",
    "  - une régression linéaire simple\n",
    "  \n",
    "  - une classification binaire."
   ]
  },
  {
   "cell_type": "markdown",
   "metadata": {},
   "source": [
    "Commençons par importer quelques unes des bibliothèques usuelles :"
   ]
  },
  {
   "cell_type": "code",
   "execution_count": 1,
   "metadata": {},
   "outputs": [],
   "source": [
    "import numpy as np\n",
    "import random as rd\n",
    "import matplotlib.pyplot as plt\n",
    "%matplotlib inline\n",
    "\n",
    "import warnings\n",
    "warnings.simplefilter('ignore')"
   ]
  },
  {
   "cell_type": "markdown",
   "metadata": {},
   "source": [
    "### On génère les données \n",
    "\n",
    "Afin de réaliser une régression linéaire simple, nous allongs générer un nuage de points. Exécutez le code de la cellule suivante :"
   ]
  },
  {
   "cell_type": "code",
   "execution_count": 2,
   "metadata": {},
   "outputs": [
    {
     "data": {
      "text/plain": [
       "<matplotlib.collections.PathCollection at 0x12e071150>"
      ]
     },
     "execution_count": 2,
     "metadata": {},
     "output_type": "execute_result"
    },
    {
     "data": {
      "image/png": "[encoded data removed]",
      "text/plain": [
       "<Figure size 640x480 with 1 Axes>"
      ]
     },
     "metadata": {},
     "output_type": "display_data"
    }
   ],
   "source": [
    "#Data: \n",
    "def generate(m, sizeNoise, slope, intersect):    \n",
    "    x = [rd.random()*50 + 5 for i in range(m)]\n",
    "    noise = [rd.random() * sizeNoise for i in range(m)]#np.rand(m,1) * sizeNoise\n",
    "    y = [intersect + slope*x[i] + noise[i] for i in range(m)] \n",
    "    return np.array([x]), np.array([y])\n",
    "\n",
    "m = 100\n",
    "sizeNoise = 10\n",
    "a = 0.8\n",
    "b =  20\n",
    "    \n",
    "X, Y = generate(m, sizeNoise, a, b)\n",
    "plt.grid()\n",
    "plt.scatter(X, Y)"
   ]
  },
  {
   "cell_type": "markdown",
   "metadata": {},
   "source": [
    "### Exercice 1. Un neurone :\n",
    "\n",
    "Comme vu en cours, un neurone formel est représenté comme suit : \n",
    "\n",
    "![Un neurone formel (Mc Culloch & Pitts (1943))](img/formal_neuron_s.png)\n",
    "\n",
    "1. Nommez chacun des élements du neurone.\n",
    "\n",
    "2. Ecrivez une fonction <code>neuron(x, w, b, f)</code> permettant d'implémenter ce neurone."
   ]
  },
  {
   "cell_type": "markdown",
   "metadata": {},
   "source": [
    "xi = les entrées du neurone  \n",
    "wi = les poids associés à chaque entrée  \n",
    "b = le biais  \n",
    "z = somme pondérée des entrées  \n",
    "f = fonction d'activation  \n",
    "y = sortie du neurone  "
   ]
  },
  {
   "cell_type": "code",
   "execution_count": 3,
   "metadata": {},
   "outputs": [],
   "source": [
    "def neuron(x, w, b, f):\n",
    "    return f(np.dot(x, w) + b)"
   ]
  },
  {
   "cell_type": "markdown",
   "metadata": {},
   "source": [
    "3. Définissez deux fonctions <code>id</code> et <code>sigmoid</code> définies par :\n",
    "$$\n",
    "id(z) = z \\mbox{ et } sigmoid(z) = \\frac{1}{1+ e^{-z}}.\n",
    "$$"
   ]
  },
  {
   "cell_type": "code",
   "execution_count": 4,
   "metadata": {},
   "outputs": [],
   "source": [
    "def id(z):\n",
    "    return z\n",
    "\n",
    "def sigmoid(z):\n",
    "    return 1/(1 + np.exp(-z))"
   ]
  },
  {
   "cell_type": "markdown",
   "metadata": {},
   "source": [
    "4. Testez vos fonctions. L'exécution de la cellule suivante devrait donner le résultat affiché."
   ]
  },
  {
   "cell_type": "code",
   "execution_count": 5,
   "metadata": {},
   "outputs": [
    {
     "name": "stdout",
     "output_type": "stream",
     "text": [
      "x:  [1]\n",
      "y_hat:  [2]\n"
     ]
    }
   ],
   "source": [
    "x = np.array([1])\n",
    "w = np.array([1])\n",
    "b = [1]\n",
    "\n",
    "y_hat = neuron(x, w, b, id)\n",
    "print('x: ', x)\n",
    "print('y_hat: ', y_hat)"
   ]
  },
  {
   "cell_type": "markdown",
   "metadata": {},
   "source": [
    "### Exercice 2. Régression linéaire : \n",
    "\n",
    "Dans cet exercice, nous allons entraîner un neurone pour réaliser une régression linéaire simple. \n",
    "\n",
    "1. Dessiner le neurone qui sera utilisé. Identifiez bien les paramètres à trouver."
   ]
  },
  {
   "cell_type": "markdown",
   "metadata": {},
   "source": [
    "Dessin du neurone sans fonction d'activitation, ou avec la fonction identité : on fait une simple régression linéaire. Donc on ne casse pas la linéarité."
   ]
  },
  {
   "cell_type": "markdown",
   "metadata": {},
   "source": [
    "2. Ecrivez le code de la fonction <code>loss(y, y_hat)</code> définie comme la moyenne des carrés des écarts : \n",
    "\n",
    "$$\n",
    "loss\\left(y, \\hat{y}\\right) = \\frac 1 {2*n} \\sum_{i=1}^n \\left(\\hat{y_i} - y_i)\\right)^2. \n",
    "$$"
   ]
  },
  {
   "cell_type": "code",
   "execution_count": 6,
   "metadata": {},
   "outputs": [],
   "source": [
    "# mean squared error\n",
    "# def loss(y, y_hat):\n",
    "#     return np.mean((y - y_hat)**2)\n",
    "\n",
    "def loss(y, y_hat):\n",
    "    somme = np.sum((y_hat - y)**2)\n",
    "    return somme / (2*y.shape[1])"
   ]
  },
  {
   "cell_type": "markdown",
   "metadata": {},
   "source": [
    "3. Calculez le gradient de la fonction ${\\cal L} = loss$ par rapport aux deux variables $w$ et $b$."
   ]
  },
  {
   "cell_type": "markdown",
   "metadata": {},
   "source": [
    "n = len(y)  \n",
    "error = y - y_hat  \n",
    "dw = -(1 / n) * np.sum(error * x)  \n",
    "db = -(1 / n) * np.sum(error)  "
   ]
  },
  {
   "cell_type": "markdown",
   "metadata": {},
   "source": [
    "4. Ecrivez la focntion <code>gradient(x, y_hat, y)</code> retournant le gradient de la fonction $\\cal L$."
   ]
  },
  {
   "cell_type": "code",
   "execution_count": 8,
   "metadata": {},
   "outputs": [],
   "source": [
    "def gradient(x, y, y_hat):\n",
    "    n = y.shape[1]\n",
    "    error = y_hat - y\n",
    "    dw = (1 / n) * np.sum(error * x)\n",
    "    db = (1 / n) * np.sum(error)\n",
    "    return dw, db"
   ]
  },
  {
   "cell_type": "markdown",
   "metadata": {},
   "source": [
    "5. Ecrivez une fonction <code>train(x, y, eta, epochs)</code> qui réalise une déscente du gradient de la fonction $\\cal L$ afin de trouver les paramètres $w$ et $b$ minimisant la valeur de $\\cal L$. "
   ]
  },
  {
   "cell_type": "code",
   "execution_count": 9,
   "metadata": {},
   "outputs": [],
   "source": [
    "# eta = learning rate\n",
    "\n",
    "def train(x, y, eta, epochs):\n",
    "    # Init\n",
    "    w = 0.0\n",
    "    b = 0.0\n",
    "    \n",
    "    for epoch in range(int(epochs)):\n",
    "        # Prédiction\n",
    "        y_hat = neuron(x, w, b, id)\n",
    "\n",
    "        # MAJ paramètres\n",
    "        dw, db = gradient(x, y, y_hat)\n",
    "        w -= eta * dw\n",
    "        b -= eta * db\n",
    "        \n",
    "        # Display\n",
    "        if epoch % (epochs // 10) == 0:\n",
    "            current_loss = loss(y, y_hat)\n",
    "            print(f\"Epoch {epoch}, Loss: {current_loss:.5f}\")\n",
    "    \n",
    "    return w, b"
   ]
  },
  {
   "cell_type": "markdown",
   "metadata": {},
   "source": [
    "6. Entraînez votre neurone. Prenez $0.001$ comme valeur pour le pas d'apprentissage, et $10000$ pour le nombre d'epochs."
   ]
  },
  {
   "cell_type": "code",
   "execution_count": 13,
   "metadata": {},
   "outputs": [
    {
     "name": "stdout",
     "output_type": "stream",
     "text": [
      "Epoch 0, Loss: 1315.10599\n",
      "Epoch 1000, Loss: 43.76127\n",
      "Epoch 2000, Loss: 32.08559\n",
      "Epoch 3000, Loss: 23.88282\n",
      "Epoch 4000, Loss: 18.11995\n",
      "Epoch 5000, Loss: 14.07124\n",
      "Epoch 6000, Loss: 11.22681\n",
      "Epoch 7000, Loss: 9.22846\n",
      "Epoch 8000, Loss: 7.82451\n",
      "Epoch 9000, Loss: 6.83816\n"
     ]
    },
    {
     "data": {
      "text/plain": [
       "(np.float64(0.9152373254499713), np.float64(20.88675146478775))"
      ]
     },
     "execution_count": 13,
     "metadata": {},
     "output_type": "execute_result"
    }
   ],
   "source": [
    "w, b = train(X, Y, 0.001, 10000)\n",
    "w, b"
   ]
  },
  {
   "cell_type": "markdown",
   "metadata": {},
   "source": [
    "7. Donnez l'équation de la droite de régression obtenue. Ecrivez l'instruction permettant de calculer les valeurs prédites."
   ]
  },
  {
   "cell_type": "markdown",
   "metadata": {},
   "source": [
    "y = 1412810.470839675 * x + 45452.48530338235"
   ]
  },
  {
   "cell_type": "markdown",
   "metadata": {},
   "source": [
    "8. Dessinez la droite de régression sur la même figure que le nuage de point."
   ]
  },
  {
   "cell_type": "code",
   "execution_count": 14,
   "metadata": {},
   "outputs": [
    {
     "name": "stdout",
     "output_type": "stream",
     "text": [
      "(100,)\n"
     ]
    },
    {
     "data": {
      "image/png": "[encoded data removed]",
      "text/plain": [
       "<Figure size 640x480 with 1 Axes>"
      ]
     },
     "metadata": {},
     "output_type": "display_data"
    }
   ],
   "source": [
    "import matplotlib.pyplot as plt\n",
    "\n",
    "# Nuage de points\n",
    "plt.scatter(X, Y, label=\"Données réelles\", color=\"blue\", alpha=0.6)\n",
    "# Droite de régression\n",
    "reg_x = np.linspace(0, 55, 100)\n",
    "reg_y = np.dot(reg_x.T, w) + b\n",
    "print(reg_y.shape)\n",
    "plt.plot(reg_x, reg_y, label=f\"Droite de régression: y = {w:.2f}x + {b:.2f}\", color=\"red\")\n",
    "# Légendes et affichage\n",
    "plt.xlabel(\"x\")\n",
    "plt.ylabel(\"y\")\n",
    "plt.legend()\n",
    "plt.title(\"Régression linéaire\")\n",
    "plt.show()\n"
   ]
  },
  {
   "cell_type": "markdown",
   "metadata": {},
   "source": [
    "9. Comparez le résultat obtenu avec la droite donnée par <code>linregress</code> du sous module <code>stats</code> du module <code>scipy</code>."
   ]
  },
  {
   "cell_type": "code",
   "execution_count": 15,
   "metadata": {},
   "outputs": [
    {
     "name": "stdout",
     "output_type": "stream",
     "text": [
      "Scipy Linregress: slope = 0.80040, intercept = 25.19173\n",
      "Notre modèle : w = 0.91524, b = 20.88675\n"
     ]
    },
    {
     "data": {
      "image/png": "[encoded data removed]",
      "text/plain": [
       "<Figure size 640x480 with 1 Axes>"
      ]
     },
     "metadata": {},
     "output_type": "display_data"
    }
   ],
   "source": [
    "from scipy.stats import linregress\n",
    "\n",
    "# Régression linéaire avec scipy\n",
    "slope, intercept, r_value, p_value, std_err = linregress(X, Y)\n",
    "\n",
    "# Affichage des résultats\n",
    "print(f\"Scipy Linregress: slope = {slope:.5f}, intercept = {intercept:.5f}\")\n",
    "print(f\"Notre modèle : w = {w:.5f}, b = {b:.5f}\")\n",
    "\n",
    "# Ajout de la droite de régression Scipy au tracé précédent\n",
    "plt.scatter(X, Y, label=\"Données réelles\", color=\"blue\", alpha=0.6)\n",
    "# plt.plot(reg_x, reg_y, label=f\"Notre droite: y = {w:.2f}x + {b:.2f}\", color=\"red\")\n",
    "plt.plot(reg_x, slope * reg_x + intercept, label=f\"Scipy: y = {slope:.2f}x + {intercept:.2f}\", color=\"green\", linestyle=\"--\")\n",
    "plt.xlabel(\"x\")\n",
    "plt.ylabel(\"y\")\n",
    "plt.title(\"Comparaison des modèles de régression\")\n",
    "plt.show()\n"
   ]
  },
  {
   "cell_type": "markdown",
   "metadata": {},
   "source": [
    "### Exercice 3. Régression logistique :\n",
    "\n",
    "Dans cet exercice, nous allons transformer le neurone afin de l'utiliser pour réaliser une classification. Nous allons nous limiter à une classification bianire : les élements appartiennent soit à une classe 0 soit à une classe 1.  "
   ]
  },
  {
   "cell_type": "markdown",
   "metadata": {},
   "source": [
    "1. Comment devons-nous appeler la \"fonction\" <code>neuron</code> pour que le fonction d'activation soit la sigmoid ?"
   ]
  },
  {
   "cell_type": "code",
   "execution_count": 42,
   "metadata": {},
   "outputs": [],
   "source": [
    "# y_hat = neuron(X, w, b, sigmoid)"
   ]
  },
  {
   "cell_type": "markdown",
   "metadata": {},
   "source": [
    "2. Exécutez la cellule suivante pour générer les données, les découper en deux parties train et test, etc. Observez le résultat de la cellule."
   ]
  },
  {
   "cell_type": "code",
   "execution_count": 44,
   "metadata": {},
   "outputs": [
    {
     "name": "stdout",
     "output_type": "stream",
     "text": [
      "(750,)\n",
      "(750,)\n",
      "[0 1]\n"
     ]
    }
   ],
   "source": [
    "from sklearn.datasets import make_classification\n",
    "from sklearn.model_selection import train_test_split\n",
    "\n",
    "X, y = make_classification(n_samples=1000, n_features=1, n_classes=2, \n",
    "                           n_informative=1, n_redundant=0, n_repeated=0,\n",
    "                          n_clusters_per_class=1)\n",
    "\n",
    "X_train, X_test, y_train, y_test = train_test_split(X, y)\n",
    "X_train = X_train.reshape(-1)\n",
    "print(X_train.shape)\n",
    "print(y_train.shape)\n",
    "print(np.unique(y))"
   ]
  },
  {
   "cell_type": "markdown",
   "metadata": {},
   "source": [
    "3. Définissez la nouvelle fonction de perte. Nous allons utiliser la fonction *cross_entropy* vue en cours :\n",
    "\n",
    "$$\n",
    "\\cal L = -\\frac 1 n \\sum_{i=1} \\left(y_i\\times \\log\\left(\\hat{y}_i\\right) + (1-y_i)\\log(1-\\hat{y}_i)\\right)\n",
    "$$"
   ]
  },
  {
   "cell_type": "code",
   "execution_count": 45,
   "metadata": {},
   "outputs": [],
   "source": [
    "def cross_entropy_loss(y, y_hat):\n",
    "    loss = -np.mean(y * np.log(y_hat) + (1 - y) * np.log(1 - y_hat))\n",
    "    return loss"
   ]
  },
  {
   "cell_type": "markdown",
   "metadata": {},
   "source": [
    "4. Ecrivez les expressions mathématiques de ce que calcule votre neurone."
   ]
  },
  {
   "cell_type": "markdown",
   "metadata": {},
   "source": [
    "$$\n",
    "\\cal \\hat{y}_i = \\sigma(z) = \\frac{1}{1+e^{-w\\cdot x - b}}\n",
    "$$"
   ]
  },
  {
   "cell_type": "markdown",
   "metadata": {},
   "source": [
    "5. Calculez le gradient de $\\cal L$ et écrivez la fonction correspondante.\n",
    "   \n",
    "Indication : la dérivée de la fonction sigmoid est : $\\sigma'(z) = \\sigma(z)\\left(1 - \\sigma(z)\\right)$."
   ]
  },
  {
   "cell_type": "markdown",
   "metadata": {},
   "source": [
    "$$\n",
    "\\cal \\frac{\\partial L}{\\partial w} = \\frac{1}{n} \\sum_{i=1}^n (\\hat{y}_i - y_i) \\cdot x_i\n",
    "$$\n",
    "$$\n",
    "\\cal  \\frac{\\partial L}{\\partial b} = \\frac{1}{n} \\sum_{i=1}^n (\\hat{y}_i - y_i)\n",
    "$$"
   ]
  },
  {
   "cell_type": "markdown",
   "metadata": {},
   "source": [
    "6. Adaptez une fonction <code>train(x, y, nu, epochs)</code> pour réaliser une déscente du gradient de la fonction $\\cal L$ afin de trouver les paramètres $w$ et $b$ minimisant la valeur de $\\cal L$. "
   ]
  },
  {
   "cell_type": "code",
   "execution_count": 46,
   "metadata": {},
   "outputs": [],
   "source": [
    "def gradient(x, y, y_hat):\n",
    "    n = y.shape[0]\n",
    "    error = y_hat - y\n",
    "    dw = (1 / n) * np.sum(error * x)\n",
    "    db = (1 / n) * np.sum(error)\n",
    "    return dw, db\n",
    "\n",
    "def train(x, y, eta, epochs):\n",
    "    # Initialisation des paramètres\n",
    "    w = 0.0\n",
    "    b = 0.0\n",
    "\n",
    "    for epoch in range(int(epochs)):\n",
    "        # Prédiction\n",
    "        y_hat = neuron(x, w, b, sigmoid)\n",
    "\n",
    "        # Calcul des gradients\n",
    "        dw, db = gradient(x, y, y_hat)\n",
    "\n",
    "        # Mise à jour des paramètres\n",
    "        w -= eta * dw\n",
    "        b -= eta * db\n",
    "\n",
    "        # Affichage périodique de la perte\n",
    "        if epoch % (epochs // 10) == 0:\n",
    "            current_loss = cross_entropy_loss(y, y_hat)\n",
    "            print(f\"Epoch {epoch}, Loss: {current_loss:.5f}\")\n",
    "\n",
    "    return w, b\n"
   ]
  },
  {
   "cell_type": "markdown",
   "metadata": {},
   "source": [
    "7. Exécutez la cellule suivante pour que vos calculs matriciels puissent se faire et entraînez votre neurone."
   ]
  },
  {
   "cell_type": "code",
   "execution_count": 47,
   "metadata": {},
   "outputs": [
    {
     "name": "stdout",
     "output_type": "stream",
     "text": [
      "Epoch 0, Loss: 0.69315\n",
      "Epoch 1000, Loss: 0.51707\n",
      "Epoch 2000, Loss: 0.42738\n",
      "Epoch 3000, Loss: 0.37502\n",
      "Epoch 4000, Loss: 0.34107\n",
      "Epoch 5000, Loss: 0.31732\n",
      "Epoch 6000, Loss: 0.29976\n",
      "Epoch 7000, Loss: 0.28621\n",
      "Epoch 8000, Loss: 0.27539\n",
      "Epoch 9000, Loss: 0.26653\n"
     ]
    }
   ],
   "source": [
    "w, b = train(X_train, y_train, eta=0.001, epochs=10000)"
   ]
  },
  {
   "cell_type": "markdown",
   "metadata": {},
   "source": [
    "8. Evaluez votre modèle. Pour cela : "
   ]
  },
  {
   "cell_type": "markdown",
   "metadata": {},
   "source": [
    "8.1. Exécutez la cellule suivante pour formater les données de test."
   ]
  },
  {
   "cell_type": "code",
   "execution_count": 50,
   "metadata": {},
   "outputs": [],
   "source": [
    "# X_test = np.reshape(X_test, (X_test.shape[1], X_test.shape[0]))\n",
    "X_test = X_test.reshape(-1)"
   ]
  },
  {
   "cell_type": "markdown",
   "metadata": {},
   "source": [
    "8.2. Appliquez votre neurone aux données de test et observez le résultat obtenu."
   ]
  },
  {
   "cell_type": "code",
   "execution_count": 51,
   "metadata": {},
   "outputs": [
    {
     "data": {
      "text/plain": [
       "(250,)"
      ]
     },
     "execution_count": 51,
     "metadata": {},
     "output_type": "execute_result"
    }
   ],
   "source": [
    "y_hat = neuron(X_test, w, b, sigmoid)\n",
    "y_hat.shape"
   ]
  },
  {
   "cell_type": "markdown",
   "metadata": {},
   "source": [
    "8.3. Transformez les sorties en 0 et 1 : "
   ]
  },
  {
   "cell_type": "code",
   "execution_count": 52,
   "metadata": {},
   "outputs": [
    {
     "data": {
      "text/plain": [
       "array([1, 1, 0, 1, 0, 1, 1, 1, 1, 0, 1, 0, 0, 1, 0, 1, 1, 0, 0, 1, 0, 1,\n",
       "       0, 1, 1, 0, 1, 1, 0, 0, 1, 0, 1, 1, 1, 0, 1, 1, 0, 0, 1, 0, 1, 1,\n",
       "       0, 0, 1, 1, 1, 1, 0, 0, 0, 1, 1, 0, 1, 1, 0, 0, 1, 0, 0, 1, 1, 1,\n",
       "       1, 0, 0, 1, 0, 1, 1, 0, 1, 0, 0, 0, 0, 0, 1, 1, 1, 1, 0, 1, 1, 1,\n",
       "       0, 0, 1, 0, 0, 0, 1, 0, 1, 0, 0, 0, 1, 1, 0, 1, 0, 1, 0, 1, 0, 0,\n",
       "       0, 1, 1, 0, 0, 1, 0, 0, 1, 1, 1, 1, 0, 0, 1, 1, 1, 1, 1, 1, 0, 0,\n",
       "       1, 0, 1, 1, 0, 1, 0, 0, 1, 1, 1, 0, 1, 1, 0, 1, 1, 1, 0, 1, 0, 1,\n",
       "       1, 1, 0, 1, 1, 0, 0, 0, 1, 1, 0, 1, 1, 1, 0, 1, 0, 0, 1, 0, 0, 1,\n",
       "       1, 1, 0, 1, 1, 1, 1, 1, 0, 1, 0, 0, 0, 0, 1, 1, 0, 1, 0, 1, 1, 0,\n",
       "       1, 1, 1, 0, 1, 1, 0, 1, 1, 1, 1, 1, 1, 1, 0, 1, 0, 0, 1, 0, 0, 1,\n",
       "       0, 0, 1, 1, 1, 0, 0, 0, 1, 1, 0, 1, 1, 1, 0, 0, 0, 1, 0, 1, 0, 1,\n",
       "       1, 0, 1, 0, 0, 1, 0, 1])"
      ]
     },
     "execution_count": 52,
     "metadata": {},
     "output_type": "execute_result"
    }
   ],
   "source": [
    "y_hat = np.where(y_hat > 0.5, 1, 0)\n",
    "y_hat"
   ]
  },
  {
   "cell_type": "markdown",
   "metadata": {},
   "source": [
    "8.4. Evaluez la qualité du modèle obtenu "
   ]
  },
  {
   "cell_type": "code",
   "execution_count": 54,
   "metadata": {},
   "outputs": [
    {
     "name": "stdout",
     "output_type": "stream",
     "text": [
      "Accuracy: 0.93\n"
     ]
    }
   ],
   "source": [
    "acc = np.mean(y_hat == y_test)\n",
    "print(f\"Accuracy: {acc:.2f}\")"
   ]
  },
  {
   "cell_type": "code",
   "execution_count": null,
   "metadata": {},
   "outputs": [],
   "source": []
  },
  {
   "cell_type": "code",
   "execution_count": null,
   "metadata": {},
   "outputs": [],
   "source": []
  }
 ],
 "metadata": {
  "kernelspec": {
   "display_name": "stu_venv",
   "language": "python",
   "name": "python3"
  },
  "language_info": {
   "codemirror_mode": {
    "name": "ipython",
    "version": 3
   },
   "file_extension": ".py",
   "mimetype": "text/x-python",
   "name": "python",
   "nbconvert_exporter": "python",
   "pygments_lexer": "ipython3",
   "version": "3.11.6"
  }
 },
 "nbformat": 4,
 "nbformat_minor": 4
}
